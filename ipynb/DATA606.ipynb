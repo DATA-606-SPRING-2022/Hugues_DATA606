{
  "nbformat": 4,
  "nbformat_minor": 0,
  "metadata": {
    "colab": {
      "name": "DATA606.ipynb",
      "provenance": [],
      "authorship_tag": "ABX9TyOUZTYMUOgUbI5JUz3XUIic",
      "include_colab_link": true
    },
    "kernelspec": {
      "name": "python3",
      "display_name": "Python 3"
    },
    "language_info": {
      "name": "python"
    }
  },
  "cells": [
    {
      "cell_type": "markdown",
      "metadata": {
        "id": "view-in-github",
        "colab_type": "text"
      },
      "source": [
        "<a href=\"https://colab.research.google.com/github/IradukundaHN/Hugues_DATA606/blob/DATA606/ipynb/DATA606.ipynb\" target=\"_parent\"><img src=\"https://colab.research.google.com/assets/colab-badge.svg\" alt=\"Open In Colab\"/></a>"
      ]
    },
    {
      "cell_type": "markdown",
      "source": [
        "Author: Hugues Nelson Iradukunda"
      ],
      "metadata": {
        "id": "xqPPLcoof60B"
      }
    },
    {
      "cell_type": "code",
      "source": [
        "print(\"This is my DATA 606 Capstone repository\")"
      ],
      "metadata": {
        "colab": {
          "base_uri": "https://localhost:8080/"
        },
        "id": "4AAxLgUCgIyy",
        "outputId": "59fd27e5-783d-48ac-b14c-a685b667b834"
      },
      "execution_count": 2,
      "outputs": [
        {
          "output_type": "stream",
          "name": "stdout",
          "text": [
            "This is my DATA 606 Capstone repository\n"
          ]
        }
      ]
    }
  ]
}